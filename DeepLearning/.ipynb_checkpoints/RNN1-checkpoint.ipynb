{
 "cells": [
  {
   "cell_type": "markdown",
   "metadata": {},
   "source": [
    "# Recurrent Neural Networks"
   ]
  },
  {
   "cell_type": "code",
   "execution_count": 1,
   "metadata": {},
   "outputs": [],
   "source": [
    "import pandas as pd\n",
    "import numpy as np\n",
    "import matplotlib.pyplot as plt\n",
    "%matplotlib inline"
   ]
  },
  {
   "cell_type": "markdown",
   "metadata": {},
   "source": [
    "## Time series forecasting"
   ]
  },
  {
   "cell_type": "code",
   "execution_count": 2,
   "metadata": {},
   "outputs": [
    {
     "data": {
      "text/html": [
       "<div>\n",
       "<style scoped>\n",
       "    .dataframe tbody tr th:only-of-type {\n",
       "        vertical-align: middle;\n",
       "    }\n",
       "\n",
       "    .dataframe tbody tr th {\n",
       "        vertical-align: top;\n",
       "    }\n",
       "\n",
       "    .dataframe thead th {\n",
       "        text-align: right;\n",
       "    }\n",
       "</style>\n",
       "<table border=\"1\" class=\"dataframe\">\n",
       "  <thead>\n",
       "    <tr style=\"text-align: right;\">\n",
       "      <th></th>\n",
       "      <th>Adjustments</th>\n",
       "      <th>Unadjusted</th>\n",
       "      <th>Seasonally adjusted</th>\n",
       "    </tr>\n",
       "  </thead>\n",
       "  <tbody>\n",
       "    <tr>\n",
       "      <th>0</th>\n",
       "      <td>Jan-1991</td>\n",
       "      <td>12588862</td>\n",
       "      <td>15026890</td>\n",
       "    </tr>\n",
       "    <tr>\n",
       "      <th>1</th>\n",
       "      <td>Feb-1991</td>\n",
       "      <td>12154321</td>\n",
       "      <td>15304585</td>\n",
       "    </tr>\n",
       "    <tr>\n",
       "      <th>2</th>\n",
       "      <td>Mar-1991</td>\n",
       "      <td>14337072</td>\n",
       "      <td>15413591</td>\n",
       "    </tr>\n",
       "    <tr>\n",
       "      <th>3</th>\n",
       "      <td>Apr-1991</td>\n",
       "      <td>15108570</td>\n",
       "      <td>15293409</td>\n",
       "    </tr>\n",
       "    <tr>\n",
       "      <th>4</th>\n",
       "      <td>May-1991</td>\n",
       "      <td>17225734</td>\n",
       "      <td>15676083</td>\n",
       "    </tr>\n",
       "  </tbody>\n",
       "</table>\n",
       "</div>"
      ],
      "text/plain": [
       "  Adjustments  Unadjusted  Seasonally adjusted\n",
       "0    Jan-1991    12588862             15026890\n",
       "1    Feb-1991    12154321             15304585\n",
       "2    Mar-1991    14337072             15413591\n",
       "3    Apr-1991    15108570             15293409\n",
       "4    May-1991    17225734             15676083"
      ]
     },
     "execution_count": 2,
     "metadata": {},
     "output_type": "execute_result"
    }
   ],
   "source": [
    "df = pd.read_csv('cansim-0800020-eng-6674700030567901031.csv',\n",
    "                 skiprows=6, skipfooter=9,\n",
    "                 engine='python')\n",
    "df.head()"
   ]
  },
  {
   "cell_type": "code",
   "execution_count": 3,
   "metadata": {},
   "outputs": [],
   "source": [
    "from pandas.tseries.offsets import MonthEnd"
   ]
  },
  {
   "cell_type": "markdown",
   "metadata": {},
   "source": [
    "**Changing the format of the dates**"
   ]
  },
  {
   "cell_type": "code",
   "execution_count": 4,
   "metadata": {},
   "outputs": [
    {
     "data": {
      "text/html": [
       "<div>\n",
       "<style scoped>\n",
       "    .dataframe tbody tr th:only-of-type {\n",
       "        vertical-align: middle;\n",
       "    }\n",
       "\n",
       "    .dataframe tbody tr th {\n",
       "        vertical-align: top;\n",
       "    }\n",
       "\n",
       "    .dataframe thead th {\n",
       "        text-align: right;\n",
       "    }\n",
       "</style>\n",
       "<table border=\"1\" class=\"dataframe\">\n",
       "  <thead>\n",
       "    <tr style=\"text-align: right;\">\n",
       "      <th></th>\n",
       "      <th>Unadjusted</th>\n",
       "      <th>Seasonally adjusted</th>\n",
       "    </tr>\n",
       "    <tr>\n",
       "      <th>Adjustments</th>\n",
       "      <th></th>\n",
       "      <th></th>\n",
       "    </tr>\n",
       "  </thead>\n",
       "  <tbody>\n",
       "    <tr>\n",
       "      <th>1991-01-31</th>\n",
       "      <td>12588862</td>\n",
       "      <td>15026890</td>\n",
       "    </tr>\n",
       "    <tr>\n",
       "      <th>1991-02-28</th>\n",
       "      <td>12154321</td>\n",
       "      <td>15304585</td>\n",
       "    </tr>\n",
       "    <tr>\n",
       "      <th>1991-03-31</th>\n",
       "      <td>14337072</td>\n",
       "      <td>15413591</td>\n",
       "    </tr>\n",
       "    <tr>\n",
       "      <th>1991-04-30</th>\n",
       "      <td>15108570</td>\n",
       "      <td>15293409</td>\n",
       "    </tr>\n",
       "    <tr>\n",
       "      <th>1991-05-31</th>\n",
       "      <td>17225734</td>\n",
       "      <td>15676083</td>\n",
       "    </tr>\n",
       "  </tbody>\n",
       "</table>\n",
       "</div>"
      ],
      "text/plain": [
       "             Unadjusted  Seasonally adjusted\n",
       "Adjustments                                 \n",
       "1991-01-31     12588862             15026890\n",
       "1991-02-28     12154321             15304585\n",
       "1991-03-31     14337072             15413591\n",
       "1991-04-30     15108570             15293409\n",
       "1991-05-31     17225734             15676083"
      ]
     },
     "execution_count": 4,
     "metadata": {},
     "output_type": "execute_result"
    }
   ],
   "source": [
    "df['Adjustments'] = pd.to_datetime(df['Adjustments']) + MonthEnd(1)\n",
    "df = df.set_index('Adjustments')\n",
    "df.head()"
   ]
  },
  {
   "cell_type": "code",
   "execution_count": 5,
   "metadata": {},
   "outputs": [
    {
     "data": {
      "text/plain": [
       "<matplotlib.axes._subplots.AxesSubplot at 0x23029ea08d0>"
      ]
     },
     "execution_count": 5,
     "metadata": {},
     "output_type": "execute_result"
    },
    {
     "data": {
      "image/png": "[encoded data removed]",
      "text/plain": [
       "<Figure size 432x288 with 1 Axes>"
      ]
     },
     "metadata": {
      "needs_background": "light"
     },
     "output_type": "display_data"
    }
   ],
   "source": [
    "df.plot()"
   ]
  },
  {
   "cell_type": "code",
   "execution_count": 7,
   "metadata": {},
   "outputs": [],
   "source": [
    "# spliting the data into part of test and part to train fom this date\n",
    "split_date = pd.Timestamp('01-01-2011')"
   ]
  },
  {
   "cell_type": "code",
   "execution_count": 8,
   "metadata": {},
   "outputs": [],
   "source": [
    "train = df.loc[:split_date, ['Unadjusted']]\n",
    "test = df.loc[split_date:, ['Unadjusted']]"
   ]
  },
  {
   "cell_type": "code",
   "execution_count": 16,
   "metadata": {},
   "outputs": [
    {
     "data": {
      "text/plain": [
       "<matplotlib.legend.Legend at 0x2302d79c048>"
      ]
     },
     "execution_count": 16,
     "metadata": {},
     "output_type": "execute_result"
    },
    {
     "data": {
      "image/png": "[encoded data removed]",
      "text/plain": [
       "<Figure size 432x288 with 1 Axes>"
      ]
     },
     "metadata": {
      "needs_background": "light"
     },
     "output_type": "display_data"
    }
   ],
   "source": [
    "ax = train.plot()\n",
    "test.plot(ax=ax)\n",
    "plt.legend(['train', 'test'])"
   ]
  },
  {
   "cell_type": "code",
   "execution_count": 18,
   "metadata": {},
   "outputs": [],
   "source": [
    "# rescaling the data, only fiting the test data since we dont know a real scaling for its result\n",
    "from sklearn.preprocessing import MinMaxScaler\n",
    "\n",
    "sc = MinMaxScaler()\n",
    "\n",
    "train_sc = sc.fit_transform(train)\n",
    "test_sc = sc.transform(test)"
   ]
  },
  {
   "cell_type": "code",
   "execution_count": 19,
   "metadata": {},
   "outputs": [
    {
     "data": {
      "text/plain": [
       "array([[0.01402033],\n",
       "       [0.        ],\n",
       "       [0.0704258 ],\n",
       "       [0.09531795]])"
      ]
     },
     "execution_count": 19,
     "metadata": {},
     "output_type": "execute_result"
    }
   ],
   "source": [
    "train_sc[:4]"
   ]
  },
  {
   "cell_type": "code",
   "execution_count": 20,
   "metadata": {},
   "outputs": [],
   "source": [
    "# the out put of a value x is the value x+1\n",
    "X_train = train_sc[:-1]\n",
    "y_train = train_sc[1:]\n",
    "\n",
    "X_test = test_sc[:-1]\n",
    "y_test = test_sc[1:]"
   ]
  },
  {
   "cell_type": "markdown",
   "metadata": {},
   "source": [
    "### Fully connected predictor"
   ]
  },
  {
   "cell_type": "code",
   "execution_count": 21,
   "metadata": {},
   "outputs": [
    {
     "name": "stderr",
     "output_type": "stream",
     "text": [
      "Using TensorFlow backend.\n"
     ]
    }
   ],
   "source": [
    "from keras.models import Sequential\n",
    "from keras.layers import Dense\n",
    "import keras.backend as K\n",
    "from keras.callbacks import EarlyStopping"
   ]
  },
  {
   "cell_type": "code",
   "execution_count": 23,
   "metadata": {},
   "outputs": [
    {
     "name": "stdout",
     "output_type": "stream",
     "text": [
      "Model: \"sequential_1\"\n",
      "_________________________________________________________________\n",
      "Layer (type)                 Output Shape              Param #   \n",
      "=================================================================\n",
      "dense_1 (Dense)              (None, 12)                24        \n",
      "_________________________________________________________________\n",
      "dense_2 (Dense)              (None, 1)                 13        \n",
      "=================================================================\n",
      "Total params: 37\n",
      "Trainable params: 37\n",
      "Non-trainable params: 0\n",
      "_________________________________________________________________\n"
     ]
    }
   ],
   "source": [
    "K.clear_session()\n",
    "\n",
    "model = Sequential()\n",
    "model.add(Dense(12, input_dim=1, activation='relu'))\n",
    "model.add(Dense(1))\n",
    "model.compile(loss='mean_squared_error', optimizer='adam')\n",
    "model.summary()"
   ]
  },
  {
   "cell_type": "code",
   "execution_count": 24,
   "metadata": {},
   "outputs": [
    {
     "name": "stdout",
     "output_type": "stream",
     "text": [
      "Epoch 1/20\n",
      "239/239 [==============================] - 13s 52ms/step - loss: 0.2411\n",
      "Epoch 2/20\n",
      "239/239 [==============================] - 0s 2ms/step - loss: 0.0861\n",
      "Epoch 3/20\n",
      "239/239 [==============================] - 0s 1ms/step - loss: 0.0475\n",
      "Epoch 4/20\n",
      "239/239 [==============================] - 0s 1ms/step - loss: 0.0388\n",
      "Epoch 5/20\n",
      "239/239 [==============================] - 0s 1ms/step - loss: 0.0353\n",
      "Epoch 6/20\n",
      "239/239 [==============================] - 0s 2ms/step - loss: 0.0323\n",
      "Epoch 7/20\n",
      "239/239 [==============================] - 0s 1ms/step - loss: 0.0295\n",
      "Epoch 8/20\n",
      "239/239 [==============================] - 0s 2ms/step - loss: 0.0270\n",
      "Epoch 9/20\n",
      "239/239 [==============================] - 0s 1ms/step - loss: 0.0247\n",
      "Epoch 10/20\n",
      "239/239 [==============================] - 0s 2ms/step - loss: 0.0226\n",
      "Epoch 11/20\n",
      "239/239 [==============================] - 0s 2ms/step - loss: 0.0206\n",
      "Epoch 12/20\n",
      "239/239 [==============================] - 0s 2ms/step - loss: 0.0188\n",
      "Epoch 13/20\n",
      "239/239 [==============================] - 0s 1ms/step - loss: 0.0171\n",
      "Epoch 14/20\n",
      "239/239 [==============================] - 0s 2ms/step - loss: 0.0156\n",
      "Epoch 15/20\n",
      "239/239 [==============================] - 0s 1ms/step - loss: 0.0145\n",
      "Epoch 16/20\n",
      "239/239 [==============================] - 0s 2ms/step - loss: 0.0137\n",
      "Epoch 17/20\n",
      "239/239 [==============================] - 0s 2ms/step - loss: 0.0126\n",
      "Epoch 18/20\n",
      "239/239 [==============================] - 0s 2ms/step - loss: 0.0119\n",
      "Epoch 19/20\n",
      "239/239 [==============================] - 0s 1ms/step - loss: 0.0114\n",
      "Epoch 20/20\n",
      "239/239 [==============================] - 0s 1ms/step - loss: 0.0109\n"
     ]
    },
    {
     "data": {
      "text/plain": [
       "<keras.callbacks.History at 0x2302d806c50>"
      ]
     },
     "execution_count": 24,
     "metadata": {},
     "output_type": "execute_result"
    }
   ],
   "source": [
    "model.fit(X_train, y_train, epochs=20,\n",
    "          batch_size=2, verbose=1)"
   ]
  },
  {
   "cell_type": "code",
   "execution_count": 25,
   "metadata": {},
   "outputs": [],
   "source": [
    "y_pred = model.predict(X_test)"
   ]
  },
  {
   "cell_type": "code",
   "execution_count": 26,
   "metadata": {},
   "outputs": [
    {
     "data": {
      "text/plain": [
       "[<matplotlib.lines.Line2D at 0x23035535208>]"
      ]
     },
     "execution_count": 26,
     "metadata": {},
     "output_type": "execute_result"
    },
    {
     "data": {
      "image/png": "[encoded data removed]",
      "text/plain": [
       "<Figure size 432x288 with 1 Axes>"
      ]
     },
     "metadata": {
      "needs_background": "light"
     },
     "output_type": "display_data"
    }
   ],
   "source": [
    "plt.plot(y_test)\n",
    "plt.plot(y_pred)"
   ]
  },
  {
   "cell_type": "markdown",
   "metadata": {},
   "source": [
    "### Recurrent predictor"
   ]
  },
  {
   "cell_type": "code",
   "execution_count": 27,
   "metadata": {},
   "outputs": [],
   "source": [
    "from keras.layers import LSTM"
   ]
  },
  {
   "cell_type": "code",
   "execution_count": 28,
   "metadata": {},
   "outputs": [
    {
     "data": {
      "text/plain": [
       "(239, 1)"
      ]
     },
     "execution_count": 28,
     "metadata": {},
     "output_type": "execute_result"
    }
   ],
   "source": [
    "X_train.shape"
   ]
  },
  {
   "cell_type": "code",
   "execution_count": 32,
   "metadata": {},
   "outputs": [
    {
     "data": {
      "text/plain": [
       "(239, 1, 1)"
      ]
     },
     "execution_count": 32,
     "metadata": {},
     "output_type": "execute_result"
    }
   ],
   "source": [
    "#3D tensor with shape (batch_size, timesteps, input_dim)\n",
    "X_train[:, None].shape"
   ]
  },
  {
   "cell_type": "code",
   "execution_count": 36,
   "metadata": {},
   "outputs": [],
   "source": [
    "X_train_t = X_train[:, None]\n",
    "X_test_t = X_test[:, None]"
   ]
  },
  {
   "cell_type": "code",
   "execution_count": 37,
   "metadata": {},
   "outputs": [],
   "source": [
    "K.clear_session()\n",
    "model = Sequential()\n",
    "\n",
    "model.add(LSTM(6, input_shape=(1, 1)))\n",
    "\n",
    "model.add(Dense(1))\n",
    "\n",
    "model.compile(loss='mean_squared_error', optimizer='adam')"
   ]
  },
  {
   "cell_type": "code",
   "execution_count": 38,
   "metadata": {},
   "outputs": [
    {
     "name": "stderr",
     "output_type": "stream",
     "text": [
      "W0903 19:00:21.824322  8176 deprecation.py:323] From C:\\Program Files\\Python36\\lib\\site-packages\\tensorflow\\python\\ops\\math_grad.py:1250: add_dispatch_support.<locals>.wrapper (from tensorflow.python.ops.array_ops) is deprecated and will be removed in a future version.\n",
      "Instructions for updating:\n",
      "Use tf.where in 2.0, which has the same broadcast rule as np.where\n"
     ]
    },
    {
     "name": "stdout",
     "output_type": "stream",
     "text": [
      "Epoch 1/100\n",
      "239/239 [==============================] - 3s 11ms/step - loss: 0.1464\n",
      "Epoch 2/100\n",
      "239/239 [==============================] - 2s 7ms/step - loss: 0.0499\n",
      "Epoch 3/100\n",
      "239/239 [==============================] - 2s 7ms/step - loss: 0.0383\n",
      "Epoch 4/100\n",
      "239/239 [==============================] - 2s 7ms/step - loss: 0.0319\n",
      "Epoch 5/100\n",
      "239/239 [==============================] - 2s 7ms/step - loss: 0.0255\n",
      "Epoch 6/100\n",
      "239/239 [==============================] - 1s 6ms/step - loss: 0.0202\n",
      "Epoch 7/100\n",
      "239/239 [==============================] - 1s 6ms/step - loss: 0.0160\n",
      "Epoch 8/100\n",
      "239/239 [==============================] - 2s 6ms/step - loss: 0.0133\n",
      "Epoch 9/100\n",
      "239/239 [==============================] - 2s 7ms/step - loss: 0.0115\n",
      "Epoch 10/100\n",
      "239/239 [==============================] - 2s 6ms/step - loss: 0.0106\n",
      "Epoch 11/100\n",
      "239/239 [==============================] - 3s 12ms/step - loss: 0.0104\n",
      "Epoch 12/100\n",
      "239/239 [==============================] - 3s 13ms/step - loss: 0.0102\n",
      "Epoch 13/100\n",
      "239/239 [==============================] - 3s 12ms/step - loss: 0.0102\n",
      "Epoch 14/100\n",
      "239/239 [==============================] - 3s 13ms/step - loss: 0.0102\n",
      "Epoch 15/100\n",
      "239/239 [==============================] - 3s 11ms/step - loss: 0.0102\n",
      "Epoch 16/100\n",
      "239/239 [==============================] - 2s 7ms/step - loss: 0.0102\n",
      "Epoch 17/100\n",
      "239/239 [==============================] - 2s 7ms/step - loss: 0.0103\n",
      "Epoch 18/100\n",
      "239/239 [==============================] - 2s 6ms/step - loss: 0.0102\n",
      "Epoch 19/100\n",
      "239/239 [==============================] - 3s 11ms/step - loss: 0.0102:\n",
      "Epoch 20/100\n",
      "239/239 [==============================] - 3s 13ms/step - loss: 0.0102\n",
      "Epoch 21/100\n",
      "239/239 [==============================] - 2s 7ms/step - loss: 0.0101\n",
      "Epoch 22/100\n",
      "239/239 [==============================] - 2s 7ms/step - loss: 0.0101\n",
      "Epoch 23/100\n",
      "239/239 [==============================] - 2s 7ms/step - loss: 0.0101\n",
      "Epoch 24/100\n",
      "239/239 [==============================] - 2s 7ms/step - loss: 0.0101\n",
      "Epoch 25/100\n",
      "239/239 [==============================] - 2s 7ms/step - loss: 0.0102\n",
      "Epoch 26/100\n",
      "239/239 [==============================] - 2s 7ms/step - loss: 0.0100\n",
      "Epoch 27/100\n",
      "239/239 [==============================] - 2s 7ms/step - loss: 0.0104\n",
      "Epoch 28/100\n",
      "239/239 [==============================] - 2s 8ms/step - loss: 0.0102\n",
      "Epoch 29/100\n",
      "239/239 [==============================] - 2s 9ms/step - loss: 0.0103\n",
      "Epoch 30/100\n",
      "239/239 [==============================] - 2s 9ms/step - loss: 0.0101\n",
      "Epoch 31/100\n",
      "239/239 [==============================] - 2s 7ms/step - loss: 0.0101\n",
      "Epoch 32/100\n",
      "239/239 [==============================] - 2s 7ms/step - loss: 0.0102\n",
      "Epoch 33/100\n",
      "239/239 [==============================] - 2s 7ms/step - loss: 0.0103\n",
      "Epoch 34/100\n",
      "239/239 [==============================] - 2s 8ms/step - loss: 0.0101\n",
      "Epoch 35/100\n",
      "239/239 [==============================] - 2s 7ms/step - loss: 0.0100\n",
      "Epoch 36/100\n",
      "239/239 [==============================] - 2s 8ms/step - loss: 0.0101\n",
      "Epoch 37/100\n",
      "239/239 [==============================] - 2s 7ms/step - loss: 0.0101\n",
      "Epoch 38/100\n",
      "239/239 [==============================] - ETA: 0s - loss: 0.010 - 2s 7ms/step - loss: 0.0102\n",
      "Epoch 39/100\n",
      "239/239 [==============================] - 2s 7ms/step - loss: 0.0101\n",
      "Epoch 40/100\n",
      "239/239 [==============================] - 2s 7ms/step - loss: 0.0101\n",
      "Epoch 41/100\n",
      "239/239 [==============================] - 2s 7ms/step - loss: 0.0100\n",
      "Epoch 42/100\n",
      "239/239 [==============================] - 2s 7ms/step - loss: 0.0100\n",
      "Epoch 43/100\n",
      "239/239 [==============================] - 2s 6ms/step - loss: 0.0101\n",
      "Epoch 44/100\n",
      "239/239 [==============================] - 2s 7ms/step - loss: 0.0100\n",
      "Epoch 45/100\n",
      "239/239 [==============================] - 2s 7ms/step - loss: 0.0100\n",
      "Epoch 46/100\n",
      "239/239 [==============================] - 2s 8ms/step - loss: 0.0099\n",
      "Epoch 47/100\n",
      "239/239 [==============================] - 3s 11ms/step - loss: 0.0101\n",
      "Epoch 48/100\n",
      "239/239 [==============================] - 2s 7ms/step - loss: 0.0099\n",
      "Epoch 49/100\n",
      "239/239 [==============================] - 2s 6ms/step - loss: 0.0102\n",
      "Epoch 50/100\n",
      "239/239 [==============================] - 2s 7ms/step - loss: 0.0100\n",
      "Epoch 51/100\n",
      "239/239 [==============================] - 3s 12ms/step - loss: 0.0102\n",
      "Epoch 52/100\n",
      "239/239 [==============================] - 3s 11ms/step - loss: 0.0100\n",
      "Epoch 53/100\n",
      "239/239 [==============================] - 2s 8ms/step - loss: 0.0100\n",
      "Epoch 54/100\n",
      "239/239 [==============================] - 3s 12ms/step - loss: 0.0100\n",
      "Epoch 55/100\n",
      "239/239 [==============================] - 3s 12ms/step - loss: 0.0101\n",
      "Epoch 56/100\n",
      "239/239 [==============================] - 2s 9ms/step - loss: 0.0100\n",
      "Epoch 57/100\n",
      "239/239 [==============================] - 2s 10ms/step - loss: 0.0097\n",
      "Epoch 58/100\n",
      "239/239 [==============================] - 3s 13ms/step - loss: 0.0099\n",
      "Epoch 59/100\n",
      "239/239 [==============================] - 2s 8ms/step - loss: 0.0100\n",
      "Epoch 60/100\n",
      "239/239 [==============================] - 2s 8ms/step - loss: 0.0100\n",
      "Epoch 61/100\n",
      "239/239 [==============================] - 2s 7ms/step - loss: 0.0100\n",
      "Epoch 62/100\n",
      "239/239 [==============================] - 2s 7ms/step - loss: 0.0100\n",
      "Epoch 63/100\n",
      "239/239 [==============================] - 2s 7ms/step - loss: 0.0099\n",
      "Epoch 64/100\n",
      "239/239 [==============================] - 2s 9ms/step - loss: 0.0100\n",
      "Epoch 65/100\n",
      "239/239 [==============================] - 2s 7ms/step - loss: 0.0099\n",
      "Epoch 66/100\n",
      "239/239 [==============================] - 2s 7ms/step - loss: 0.0100\n",
      "Epoch 67/100\n",
      "239/239 [==============================] - 2s 7ms/step - loss: 0.0099\n",
      "Epoch 68/100\n",
      "239/239 [==============================] - 2s 7ms/step - loss: 0.0101\n",
      "Epoch 69/100\n",
      "239/239 [==============================] - 2s 7ms/step - loss: 0.0099\n",
      "Epoch 70/100\n",
      "239/239 [==============================] - 2s 8ms/step - loss: 0.0100\n",
      "Epoch 71/100\n",
      "239/239 [==============================] - 2s 7ms/step - loss: 0.0100\n",
      "Epoch 72/100\n",
      "239/239 [==============================] - 2s 7ms/step - loss: 0.0100\n",
      "Epoch 73/100\n",
      "239/239 [==============================] - 2s 7ms/step - loss: 0.0101\n",
      "Epoch 74/100\n",
      "239/239 [==============================] - 2s 7ms/step - loss: 0.0100\n",
      "Epoch 75/100\n",
      "239/239 [==============================] - 2s 7ms/step - loss: 0.0100\n",
      "Epoch 76/100\n",
      "239/239 [==============================] - 2s 7ms/step - loss: 0.0100\n",
      "Epoch 77/100\n",
      "239/239 [==============================] - 2s 7ms/step - loss: 0.0100\n",
      "Epoch 78/100\n",
      "239/239 [==============================] - 2s 7ms/step - loss: 0.0099\n",
      "Epoch 79/100\n",
      "239/239 [==============================] - 2s 7ms/step - loss: 0.0099\n",
      "Epoch 80/100\n",
      "239/239 [==============================] - 2s 7ms/step - loss: 0.0097\n",
      "Epoch 81/100\n",
      "239/239 [==============================] - 2s 7ms/step - loss: 0.0100\n",
      "Epoch 82/100\n",
      "239/239 [==============================] - 2s 7ms/step - loss: 0.0100\n",
      "Epoch 83/100\n",
      "239/239 [==============================] - 2s 8ms/step - loss: 0.0099\n",
      "Epoch 84/100\n",
      "239/239 [==============================] - 2s 7ms/step - loss: 0.0099\n",
      "Epoch 85/100\n",
      "239/239 [==============================] - 2s 7ms/step - loss: 0.0100\n",
      "Epoch 86/100\n",
      "239/239 [==============================] - 2s 7ms/step - loss: 0.0099\n",
      "Epoch 87/100\n",
      "239/239 [==============================] - 2s 8ms/step - loss: 0.0100\n",
      "Epoch 88/100\n",
      "239/239 [==============================] - 2s 7ms/step - loss: 0.0099\n",
      "Epoch 89/100\n",
      "239/239 [==============================] - 2s 7ms/step - loss: 0.0101\n",
      "Epoch 90/100\n",
      "239/239 [==============================] - 2s 7ms/step - loss: 0.0100\n",
      "Epoch 91/100\n",
      "239/239 [==============================] - 2s 7ms/step - loss: 0.0099\n",
      "Epoch 92/100\n",
      "239/239 [==============================] - 2s 7ms/step - loss: 0.0099\n",
      "Epoch 93/100\n",
      "239/239 [==============================] - 2s 7ms/step - loss: 0.0099\n",
      "Epoch 94/100\n",
      "239/239 [==============================] - 2s 7ms/step - loss: 0.0100\n",
      "Epoch 95/100\n",
      "239/239 [==============================] - 2s 7ms/step - loss: 0.0101\n",
      "Epoch 96/100\n",
      "239/239 [==============================] - 2s 7ms/step - loss: 0.0100\n",
      "Epoch 97/100\n",
      "239/239 [==============================] - 2s 7ms/step - loss: 0.0100\n",
      "Epoch 98/100\n",
      "239/239 [==============================] - 2s 7ms/step - loss: 0.0099\n",
      "Epoch 99/100\n"
     ]
    },
    {
     "name": "stdout",
     "output_type": "stream",
     "text": [
      "239/239 [==============================] - 2s 7ms/step - loss: 0.0099\n",
      "Epoch 100/100\n",
      "239/239 [==============================] - 2s 7ms/step - loss: 0.0100\n"
     ]
    },
    {
     "data": {
      "text/plain": [
       "<keras.callbacks.History at 0x2302d48f4e0>"
      ]
     },
     "execution_count": 38,
     "metadata": {},
     "output_type": "execute_result"
    }
   ],
   "source": [
    "model.fit(X_train_t, y_train,\n",
    "          epochs=100, batch_size=1, verbose=1)"
   ]
  },
  {
   "cell_type": "code",
   "execution_count": 39,
   "metadata": {},
   "outputs": [
    {
     "data": {
      "text/plain": [
       "[<matplotlib.lines.Line2D at 0x230cfe9e518>]"
      ]
     },
     "execution_count": 39,
     "metadata": {},
     "output_type": "execute_result"
    },
    {
     "data": {
      "image/png": "[encoded data removed]",
      "text/plain": [
       "<Figure size 432x288 with 1 Axes>"
      ]
     },
     "metadata": {
      "needs_background": "light"
     },
     "output_type": "display_data"
    }
   ],
   "source": [
    "y_pred = model.predict(X_test_t)\n",
    "plt.plot(y_test)\n",
    "plt.plot(y_pred)"
   ]
  }
 ],
 "metadata": {
  "kernelspec": {
   "display_name": "Python 3",
   "language": "python",
   "name": "python3"
  },
  "language_info": {
   "codemirror_mode": {
    "name": "ipython",
    "version": 3
   },
   "file_extension": ".py",
   "mimetype": "text/x-python",
   "name": "python",
   "nbconvert_exporter": "python",
   "pygments_lexer": "ipython3",
   "version": "3.6.7"
  }
 },
 "nbformat": 4,
 "nbformat_minor": 2
}
