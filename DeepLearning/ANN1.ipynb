{
 "cells": [
  {
   "cell_type": "markdown",
   "metadata": {},
   "source": [
    "# Deep Neural Networks"
   ]
  },
  {
   "cell_type": "markdown",
   "metadata": {},
   "source": [
    "**Predicting if the customer stay in the bank or leave**"
   ]
  },
  {
   "cell_type": "code",
   "execution_count": 33,
   "metadata": {},
   "outputs": [],
   "source": [
    "import pandas as pd\n",
    "import numpy as np\n",
    "import matplotlib.pyplot as plt\n",
    "%matplotlib inline"
   ]
  },
  {
   "cell_type": "code",
   "execution_count": 34,
   "metadata": {},
   "outputs": [
    {
     "data": {
      "text/html": [
       "<div>\n",
       "<style scoped>\n",
       "    .dataframe tbody tr th:only-of-type {\n",
       "        vertical-align: middle;\n",
       "    }\n",
       "\n",
       "    .dataframe tbody tr th {\n",
       "        vertical-align: top;\n",
       "    }\n",
       "\n",
       "    .dataframe thead th {\n",
       "        text-align: right;\n",
       "    }\n",
       "</style>\n",
       "<table border=\"1\" class=\"dataframe\">\n",
       "  <thead>\n",
       "    <tr style=\"text-align: right;\">\n",
       "      <th></th>\n",
       "      <th>RowNumber</th>\n",
       "      <th>CustomerId</th>\n",
       "      <th>Surname</th>\n",
       "      <th>CreditScore</th>\n",
       "      <th>Geography</th>\n",
       "      <th>Gender</th>\n",
       "      <th>Age</th>\n",
       "      <th>Tenure</th>\n",
       "      <th>Balance</th>\n",
       "      <th>NumOfProducts</th>\n",
       "      <th>HasCrCard</th>\n",
       "      <th>IsActiveMember</th>\n",
       "      <th>EstimatedSalary</th>\n",
       "      <th>Exited</th>\n",
       "    </tr>\n",
       "  </thead>\n",
       "  <tbody>\n",
       "    <tr>\n",
       "      <th>0</th>\n",
       "      <td>1</td>\n",
       "      <td>15634602</td>\n",
       "      <td>Hargrave</td>\n",
       "      <td>619</td>\n",
       "      <td>France</td>\n",
       "      <td>Female</td>\n",
       "      <td>42</td>\n",
       "      <td>2</td>\n",
       "      <td>0.00</td>\n",
       "      <td>1</td>\n",
       "      <td>1</td>\n",
       "      <td>1</td>\n",
       "      <td>101348.88</td>\n",
       "      <td>1</td>\n",
       "    </tr>\n",
       "    <tr>\n",
       "      <th>1</th>\n",
       "      <td>2</td>\n",
       "      <td>15647311</td>\n",
       "      <td>Hill</td>\n",
       "      <td>608</td>\n",
       "      <td>Spain</td>\n",
       "      <td>Female</td>\n",
       "      <td>41</td>\n",
       "      <td>1</td>\n",
       "      <td>83807.86</td>\n",
       "      <td>1</td>\n",
       "      <td>0</td>\n",
       "      <td>1</td>\n",
       "      <td>112542.58</td>\n",
       "      <td>0</td>\n",
       "    </tr>\n",
       "    <tr>\n",
       "      <th>2</th>\n",
       "      <td>3</td>\n",
       "      <td>15619304</td>\n",
       "      <td>Onio</td>\n",
       "      <td>502</td>\n",
       "      <td>France</td>\n",
       "      <td>Female</td>\n",
       "      <td>42</td>\n",
       "      <td>8</td>\n",
       "      <td>159660.80</td>\n",
       "      <td>3</td>\n",
       "      <td>1</td>\n",
       "      <td>0</td>\n",
       "      <td>113931.57</td>\n",
       "      <td>1</td>\n",
       "    </tr>\n",
       "    <tr>\n",
       "      <th>3</th>\n",
       "      <td>4</td>\n",
       "      <td>15701354</td>\n",
       "      <td>Boni</td>\n",
       "      <td>699</td>\n",
       "      <td>France</td>\n",
       "      <td>Female</td>\n",
       "      <td>39</td>\n",
       "      <td>1</td>\n",
       "      <td>0.00</td>\n",
       "      <td>2</td>\n",
       "      <td>0</td>\n",
       "      <td>0</td>\n",
       "      <td>93826.63</td>\n",
       "      <td>0</td>\n",
       "    </tr>\n",
       "    <tr>\n",
       "      <th>4</th>\n",
       "      <td>5</td>\n",
       "      <td>15737888</td>\n",
       "      <td>Mitchell</td>\n",
       "      <td>850</td>\n",
       "      <td>Spain</td>\n",
       "      <td>Female</td>\n",
       "      <td>43</td>\n",
       "      <td>2</td>\n",
       "      <td>125510.82</td>\n",
       "      <td>1</td>\n",
       "      <td>1</td>\n",
       "      <td>1</td>\n",
       "      <td>79084.10</td>\n",
       "      <td>0</td>\n",
       "    </tr>\n",
       "  </tbody>\n",
       "</table>\n",
       "</div>"
      ],
      "text/plain": [
       "   RowNumber  CustomerId   Surname  CreditScore Geography  Gender  Age  \\\n",
       "0          1    15634602  Hargrave          619    France  Female   42   \n",
       "1          2    15647311      Hill          608     Spain  Female   41   \n",
       "2          3    15619304      Onio          502    France  Female   42   \n",
       "3          4    15701354      Boni          699    France  Female   39   \n",
       "4          5    15737888  Mitchell          850     Spain  Female   43   \n",
       "\n",
       "   Tenure    Balance  NumOfProducts  HasCrCard  IsActiveMember  \\\n",
       "0       2       0.00              1          1               1   \n",
       "1       1   83807.86              1          0               1   \n",
       "2       8  159660.80              3          1               0   \n",
       "3       1       0.00              2          0               0   \n",
       "4       2  125510.82              1          1               1   \n",
       "\n",
       "   EstimatedSalary  Exited  \n",
       "0        101348.88       1  \n",
       "1        112542.58       0  \n",
       "2        113931.57       1  \n",
       "3         93826.63       0  \n",
       "4         79084.10       0  "
      ]
     },
     "execution_count": 34,
     "metadata": {},
     "output_type": "execute_result"
    }
   ],
   "source": [
    "df = pd.read_csv('Churn_Modelling.csv')\n",
    "df.head()"
   ]
  },
  {
   "cell_type": "code",
   "execution_count": 35,
   "metadata": {},
   "outputs": [],
   "source": [
    "X = df.iloc[:,3:12].values\n",
    "y = df.iloc[:,13].values"
   ]
  },
  {
   "cell_type": "markdown",
   "metadata": {},
   "source": [
    "**Encode Categorical data**"
   ]
  },
  {
   "cell_type": "code",
   "execution_count": 36,
   "metadata": {},
   "outputs": [
    {
     "name": "stderr",
     "output_type": "stream",
     "text": [
      "C:\\Users\\Assaad\\AppData\\Roaming\\Python\\Python36\\site-packages\\sklearn\\preprocessing\\_encoders.py:415: FutureWarning: The handling of integer data will change in version 0.22. Currently, the categories are determined based on the range [0, max(values)], while in the future they will be determined based on the unique values.\n",
      "If you want the future behaviour and silence this warning, you can specify \"categories='auto'\".\n",
      "In case you used a LabelEncoder before this OneHotEncoder to convert the categories to integers, then you can now use the OneHotEncoder directly.\n",
      "  warnings.warn(msg, FutureWarning)\n"
     ]
    }
   ],
   "source": [
    "from sklearn.preprocessing import LabelEncoder, OneHotEncoder\n",
    "labelencoder_X_1 = LabelEncoder()\n",
    "X[:, 1] = labelencoder_X_1.fit_transform(X[:, 1])\n",
    "labelencoder_X_2 = LabelEncoder()\n",
    "X[:, 2] = labelencoder_X_2.fit_transform(X[:, 2])\n",
    "# we have the country encoded in 3 values, we use dummy variables to fix this since ther is no order between countries\n",
    "onehotencoder = OneHotEncoder(categorical_features = [1])\n",
    "X = onehotencoder.fit_transform(X).toarray()\n",
    "X = X[:, 1:] # we can use 2 dummy variables only, for a 3 values feature"
   ]
  },
  {
   "cell_type": "code",
   "execution_count": 37,
   "metadata": {},
   "outputs": [],
   "source": [
    "from sklearn.model_selection import train_test_split\n",
    "X_train, X_test, y_train, y_test = train_test_split(X, y, test_size=0.3, random_state=101)"
   ]
  },
  {
   "cell_type": "code",
   "execution_count": 38,
   "metadata": {},
   "outputs": [],
   "source": [
    "from sklearn.preprocessing import StandardScaler\n",
    "sc = StandardScaler()\n",
    "X_train = sc.fit_transform(X_train)\n",
    "X_test = sc.fit_transform(X_test)"
   ]
  },
  {
   "cell_type": "code",
   "execution_count": 39,
   "metadata": {},
   "outputs": [],
   "source": [
    "import keras"
   ]
  },
  {
   "cell_type": "code",
   "execution_count": 40,
   "metadata": {},
   "outputs": [],
   "source": [
    "from keras.models import Sequential\n",
    "from keras.layers import Dense"
   ]
  },
  {
   "cell_type": "code",
   "execution_count": 41,
   "metadata": {},
   "outputs": [],
   "source": [
    "classifier = Sequential()"
   ]
  },
  {
   "cell_type": "code",
   "execution_count": 42,
   "metadata": {},
   "outputs": [],
   "source": [
    "classifier.add(Dense(activation=\"relu\", input_dim=10, units=6, kernel_initializer=\"uniform\"))\n",
    "classifier.add(Dense(activation=\"relu\", units=6, kernel_initializer=\"uniform\"))\n",
    "classifier.add(Dense(activation=\"sigmoid\", units=1, kernel_initializer=\"uniform\"))"
   ]
  },
  {
   "cell_type": "markdown",
   "metadata": {},
   "source": [
    "#### Compiling the ANN"
   ]
  },
  {
   "cell_type": "code",
   "execution_count": 43,
   "metadata": {},
   "outputs": [],
   "source": [
    "classifier.compile(optimizer = 'adam', loss = 'binary_crossentropy', metrics = ['accuracy'])"
   ]
  },
  {
   "cell_type": "code",
   "execution_count": 44,
   "metadata": {
    "scrolled": false
   },
   "outputs": [
    {
     "name": "stderr",
     "output_type": "stream",
     "text": [
      "C:\\Program Files\\Python36\\lib\\site-packages\\ipykernel_launcher.py:1: UserWarning: The `nb_epoch` argument in `fit` has been renamed `epochs`.\n",
      "  \"\"\"Entry point for launching an IPython kernel.\n"
     ]
    },
    {
     "name": "stdout",
     "output_type": "stream",
     "text": [
      "Epoch 1/100\n",
      "7000/7000 [==============================] - 2s 269us/step - loss: 0.4887 - acc: 0.7979\n",
      "Epoch 2/100\n",
      "7000/7000 [==============================] - 1s 141us/step - loss: 0.4328 - acc: 0.7979\n",
      "Epoch 3/100\n",
      "7000/7000 [==============================] - 1s 104us/step - loss: 0.4276 - acc: 0.7979\n",
      "Epoch 4/100\n",
      "7000/7000 [==============================] - 1s 105us/step - loss: 0.4234 - acc: 0.8120\n",
      "Epoch 5/100\n",
      "7000/7000 [==============================] - 1s 104us/step - loss: 0.4204 - acc: 0.8233\n",
      "Epoch 6/100\n",
      "7000/7000 [==============================] - 1s 107us/step - loss: 0.4183 - acc: 0.8271\n",
      "Epoch 7/100\n",
      "7000/7000 [==============================] - 1s 110us/step - loss: 0.4174 - acc: 0.8283\n",
      "Epoch 8/100\n",
      "7000/7000 [==============================] - 1s 108us/step - loss: 0.4161 - acc: 0.8314\n",
      "Epoch 9/100\n",
      "7000/7000 [==============================] - 1s 110us/step - loss: 0.4157 - acc: 0.8307\n",
      "Epoch 10/100\n",
      "7000/7000 [==============================] - 1s 105us/step - loss: 0.4145 - acc: 0.8327\n",
      "Epoch 11/100\n",
      "7000/7000 [==============================] - 1s 107us/step - loss: 0.4138 - acc: 0.8313\n",
      "Epoch 12/100\n",
      "7000/7000 [==============================] - 1s 119us/step - loss: 0.4136 - acc: 0.8320\n",
      "Epoch 13/100\n",
      "7000/7000 [==============================] - 1s 107us/step - loss: 0.4121 - acc: 0.8317\n",
      "Epoch 14/100\n",
      "7000/7000 [==============================] - 1s 105us/step - loss: 0.4130 - acc: 0.8333\n",
      "Epoch 15/100\n",
      "7000/7000 [==============================] - 1s 107us/step - loss: 0.4118 - acc: 0.8324 0s - loss: 0.4484 \n",
      "Epoch 16/100\n",
      "7000/7000 [==============================] - 1s 108us/step - loss: 0.4112 - acc: 0.8331\n",
      "Epoch 17/100\n",
      "7000/7000 [==============================] - 1s 117us/step - loss: 0.4113 - acc: 0.8320\n",
      "Epoch 18/100\n",
      "7000/7000 [==============================] - 1s 107us/step - loss: 0.4103 - acc: 0.8329\n",
      "Epoch 19/100\n",
      "7000/7000 [==============================] - 1s 104us/step - loss: 0.4094 - acc: 0.8324\n",
      "Epoch 20/100\n",
      "7000/7000 [==============================] - 1s 119us/step - loss: 0.4097 - acc: 0.8331\n",
      "Epoch 21/100\n",
      "7000/7000 [==============================] - 1s 112us/step - loss: 0.4091 - acc: 0.8350\n",
      "Epoch 22/100\n",
      "7000/7000 [==============================] - 1s 112us/step - loss: 0.4085 - acc: 0.8347\n",
      "Epoch 23/100\n",
      "7000/7000 [==============================] - 1s 108us/step - loss: 0.4087 - acc: 0.8354\n",
      "Epoch 24/100\n",
      "7000/7000 [==============================] - 1s 108us/step - loss: 0.4082 - acc: 0.8341\n",
      "Epoch 25/100\n",
      "7000/7000 [==============================] - 1s 112us/step - loss: 0.4072 - acc: 0.8339\n",
      "Epoch 26/100\n",
      "7000/7000 [==============================] - 1s 106us/step - loss: 0.4079 - acc: 0.8354\n",
      "Epoch 27/100\n",
      "7000/7000 [==============================] - 1s 112us/step - loss: 0.4070 - acc: 0.8351\n",
      "Epoch 28/100\n",
      "7000/7000 [==============================] - 1s 109us/step - loss: 0.4070 - acc: 0.8347\n",
      "Epoch 29/100\n",
      "7000/7000 [==============================] - 1s 111us/step - loss: 0.4074 - acc: 0.8337\n",
      "Epoch 30/100\n",
      "7000/7000 [==============================] - 1s 112us/step - loss: 0.4070 - acc: 0.8354\n",
      "Epoch 31/100\n",
      "7000/7000 [==============================] - 1s 121us/step - loss: 0.4065 - acc: 0.8337\n",
      "Epoch 32/100\n",
      "7000/7000 [==============================] - 1s 106us/step - loss: 0.4067 - acc: 0.8339\n",
      "Epoch 33/100\n",
      "7000/7000 [==============================] - 1s 107us/step - loss: 0.4062 - acc: 0.8349\n",
      "Epoch 34/100\n",
      "7000/7000 [==============================] - 1s 106us/step - loss: 0.4067 - acc: 0.8339\n",
      "Epoch 35/100\n",
      "7000/7000 [==============================] - 1s 111us/step - loss: 0.4065 - acc: 0.8349\n",
      "Epoch 36/100\n",
      "7000/7000 [==============================] - 1s 109us/step - loss: 0.4065 - acc: 0.8354\n",
      "Epoch 37/100\n",
      "7000/7000 [==============================] - 1s 108us/step - loss: 0.4059 - acc: 0.8357\n",
      "Epoch 38/100\n",
      "7000/7000 [==============================] - 1s 109us/step - loss: 0.4057 - acc: 0.8366\n",
      "Epoch 39/100\n",
      "7000/7000 [==============================] - 1s 109us/step - loss: 0.4057 - acc: 0.8337\n",
      "Epoch 40/100\n",
      "7000/7000 [==============================] - 1s 141us/step - loss: 0.4060 - acc: 0.8343\n",
      "Epoch 41/100\n",
      "7000/7000 [==============================] - 1s 108us/step - loss: 0.4060 - acc: 0.8344\n",
      "Epoch 42/100\n",
      "7000/7000 [==============================] - 1s 104us/step - loss: 0.4056 - acc: 0.8334\n",
      "Epoch 43/100\n",
      "7000/7000 [==============================] - 1s 109us/step - loss: 0.4061 - acc: 0.8339\n",
      "Epoch 44/100\n",
      "7000/7000 [==============================] - 1s 108us/step - loss: 0.4058 - acc: 0.8326\n",
      "Epoch 45/100\n",
      "7000/7000 [==============================] - 1s 106us/step - loss: 0.4051 - acc: 0.8330\n",
      "Epoch 46/100\n",
      "7000/7000 [==============================] - 1s 109us/step - loss: 0.4056 - acc: 0.8354\n",
      "Epoch 47/100\n",
      "7000/7000 [==============================] - 1s 113us/step - loss: 0.4056 - acc: 0.8350\n",
      "Epoch 48/100\n",
      "7000/7000 [==============================] - 1s 115us/step - loss: 0.4054 - acc: 0.8357\n",
      "Epoch 49/100\n",
      "7000/7000 [==============================] - 1s 107us/step - loss: 0.4053 - acc: 0.8327\n",
      "Epoch 50/100\n",
      "7000/7000 [==============================] - 1s 113us/step - loss: 0.4051 - acc: 0.8349\n",
      "Epoch 51/100\n",
      "7000/7000 [==============================] - 1s 156us/step - loss: 0.4056 - acc: 0.8336\n",
      "Epoch 52/100\n",
      "7000/7000 [==============================] - 1s 187us/step - loss: 0.4051 - acc: 0.8343\n",
      "Epoch 53/100\n",
      "7000/7000 [==============================] - 1s 182us/step - loss: 0.4052 - acc: 0.8350\n",
      "Epoch 54/100\n",
      "7000/7000 [==============================] - 1s 141us/step - loss: 0.4045 - acc: 0.8323\n",
      "Epoch 55/100\n",
      "7000/7000 [==============================] - 1s 112us/step - loss: 0.4055 - acc: 0.8319\n",
      "Epoch 56/100\n",
      "7000/7000 [==============================] - 1s 115us/step - loss: 0.4053 - acc: 0.8333\n",
      "Epoch 57/100\n",
      "7000/7000 [==============================] - 1s 112us/step - loss: 0.4053 - acc: 0.8344\n",
      "Epoch 58/100\n",
      "7000/7000 [==============================] - 1s 118us/step - loss: 0.4046 - acc: 0.8357\n",
      "Epoch 59/100\n",
      "7000/7000 [==============================] - 1s 122us/step - loss: 0.4051 - acc: 0.8320\n",
      "Epoch 60/100\n",
      "7000/7000 [==============================] - 1s 109us/step - loss: 0.4050 - acc: 0.8354\n",
      "Epoch 61/100\n",
      "7000/7000 [==============================] - 1s 111us/step - loss: 0.4053 - acc: 0.8343\n",
      "Epoch 62/100\n",
      "7000/7000 [==============================] - 1s 110us/step - loss: 0.4046 - acc: 0.8347\n",
      "Epoch 63/100\n",
      "7000/7000 [==============================] - 1s 109us/step - loss: 0.4048 - acc: 0.8314\n",
      "Epoch 64/100\n",
      "7000/7000 [==============================] - 1s 109us/step - loss: 0.4050 - acc: 0.8336\n",
      "Epoch 65/100\n",
      "7000/7000 [==============================] - 1s 109us/step - loss: 0.4050 - acc: 0.8326\n",
      "Epoch 66/100\n",
      "7000/7000 [==============================] - 1s 111us/step - loss: 0.4053 - acc: 0.8337\n",
      "Epoch 67/100\n",
      "7000/7000 [==============================] - 1s 109us/step - loss: 0.4047 - acc: 0.8331\n",
      "Epoch 68/100\n",
      "7000/7000 [==============================] - 1s 107us/step - loss: 0.4046 - acc: 0.8331\n",
      "Epoch 69/100\n",
      "7000/7000 [==============================] - 1s 107us/step - loss: 0.4047 - acc: 0.8330\n",
      "Epoch 70/100\n",
      "7000/7000 [==============================] - 1s 109us/step - loss: 0.4042 - acc: 0.8343\n",
      "Epoch 71/100\n",
      "7000/7000 [==============================] - 1s 107us/step - loss: 0.4044 - acc: 0.8346\n",
      "Epoch 72/100\n",
      "7000/7000 [==============================] - 1s 108us/step - loss: 0.4048 - acc: 0.8331\n",
      "Epoch 73/100\n",
      "7000/7000 [==============================] - 1s 110us/step - loss: 0.4046 - acc: 0.8330\n",
      "Epoch 74/100\n",
      "7000/7000 [==============================] - 1s 109us/step - loss: 0.4045 - acc: 0.8349\n",
      "Epoch 75/100\n",
      "7000/7000 [==============================] - 1s 156us/step - loss: 0.4049 - acc: 0.8344\n",
      "Epoch 76/100\n",
      "7000/7000 [==============================] - 1s 150us/step - loss: 0.4042 - acc: 0.8366\n",
      "Epoch 77/100\n",
      "7000/7000 [==============================] - 1s 115us/step - loss: 0.4043 - acc: 0.8350\n",
      "Epoch 78/100\n",
      "7000/7000 [==============================] - 1s 110us/step - loss: 0.4045 - acc: 0.8351\n",
      "Epoch 79/100\n",
      "7000/7000 [==============================] - 1s 107us/step - loss: 0.4040 - acc: 0.8343\n",
      "Epoch 80/100\n",
      "7000/7000 [==============================] - 1s 178us/step - loss: 0.4043 - acc: 0.8349\n",
      "Epoch 81/100\n",
      "7000/7000 [==============================] - 1s 177us/step - loss: 0.4046 - acc: 0.8333\n",
      "Epoch 82/100\n"
     ]
    },
    {
     "name": "stdout",
     "output_type": "stream",
     "text": [
      "7000/7000 [==============================] - 1s 160us/step - loss: 0.4043 - acc: 0.8351\n",
      "Epoch 83/100\n",
      "7000/7000 [==============================] - 1s 160us/step - loss: 0.4045 - acc: 0.8344\n",
      "Epoch 84/100\n",
      "7000/7000 [==============================] - 1s 168us/step - loss: 0.4050 - acc: 0.8351\n",
      "Epoch 85/100\n",
      "7000/7000 [==============================] - 1s 167us/step - loss: 0.4047 - acc: 0.8356\n",
      "Epoch 86/100\n",
      "7000/7000 [==============================] - 1s 164us/step - loss: 0.4042 - acc: 0.8337\n",
      "Epoch 87/100\n",
      "7000/7000 [==============================] - 1s 107us/step - loss: 0.4046 - acc: 0.8356\n",
      "Epoch 88/100\n",
      "7000/7000 [==============================] - 1s 105us/step - loss: 0.4042 - acc: 0.8341\n",
      "Epoch 89/100\n",
      "7000/7000 [==============================] - 1s 107us/step - loss: 0.4044 - acc: 0.8344\n",
      "Epoch 90/100\n",
      "7000/7000 [==============================] - 1s 105us/step - loss: 0.4049 - acc: 0.8337\n",
      "Epoch 91/100\n",
      "7000/7000 [==============================] - 1s 106us/step - loss: 0.4039 - acc: 0.8353\n",
      "Epoch 92/100\n",
      "7000/7000 [==============================] - 1s 108us/step - loss: 0.4048 - acc: 0.8340\n",
      "Epoch 93/100\n",
      "7000/7000 [==============================] - 1s 108us/step - loss: 0.4038 - acc: 0.8347\n",
      "Epoch 94/100\n",
      "7000/7000 [==============================] - 1s 106us/step - loss: 0.4046 - acc: 0.8327\n",
      "Epoch 95/100\n",
      "7000/7000 [==============================] - 1s 108us/step - loss: 0.4045 - acc: 0.8353\n",
      "Epoch 96/100\n",
      "7000/7000 [==============================] - 1s 108us/step - loss: 0.4041 - acc: 0.8344\n",
      "Epoch 97/100\n",
      "7000/7000 [==============================] - 1s 108us/step - loss: 0.4044 - acc: 0.8350\n",
      "Epoch 98/100\n",
      "7000/7000 [==============================] - 1s 109us/step - loss: 0.4042 - acc: 0.8367\n",
      "Epoch 99/100\n",
      "7000/7000 [==============================] - 1s 113us/step - loss: 0.4046 - acc: 0.8329\n",
      "Epoch 100/100\n",
      "7000/7000 [==============================] - 1s 112us/step - loss: 0.4044 - acc: 0.8359\n"
     ]
    },
    {
     "data": {
      "text/plain": [
       "<keras.callbacks.History at 0x2267cdaaac8>"
      ]
     },
     "execution_count": 44,
     "metadata": {},
     "output_type": "execute_result"
    }
   ],
   "source": [
    "classifier.fit(X_train, y_train, batch_size = 10, nb_epoch = 100)"
   ]
  },
  {
   "cell_type": "code",
   "execution_count": 45,
   "metadata": {},
   "outputs": [],
   "source": [
    "y_pred = classifier.predict(X_test)\n",
    "y_pred = (y_pred > 0.5)\n",
    "\n",
    "# Making the Confusion Matrix\n",
    "from sklearn.metrics import confusion_matrix\n",
    "cm = confusion_matrix(y_test, y_pred)"
   ]
  },
  {
   "cell_type": "code",
   "execution_count": 46,
   "metadata": {},
   "outputs": [
    {
     "data": {
      "text/plain": [
       "array([[2299,   79],\n",
       "       [ 401,  221]], dtype=int64)"
      ]
     },
     "execution_count": 46,
     "metadata": {},
     "output_type": "execute_result"
    }
   ],
   "source": [
    "cm"
   ]
  },
  {
   "cell_type": "code",
   "execution_count": null,
   "metadata": {},
   "outputs": [],
   "source": []
  }
 ],
 "metadata": {
  "kernelspec": {
   "display_name": "Python 3",
   "language": "python",
   "name": "python3"
  },
  "language_info": {
   "codemirror_mode": {
    "name": "ipython",
    "version": 3
   },
   "file_extension": ".py",
   "mimetype": "text/x-python",
   "name": "python",
   "nbconvert_exporter": "python",
   "pygments_lexer": "ipython3",
   "version": "3.6.7"
  }
 },
 "nbformat": 4,
 "nbformat_minor": 2
}
